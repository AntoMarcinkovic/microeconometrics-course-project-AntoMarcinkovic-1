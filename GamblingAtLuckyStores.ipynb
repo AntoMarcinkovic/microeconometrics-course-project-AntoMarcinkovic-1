{
 "cells": [
  {
   "cell_type": "markdown",
   "metadata": {},
   "source": [
    "--- \n",
    "Project for the course in Microeconometrics | Summer 2020, M.Sc. Economics, Bonn University | Anto Marcinkovic\n",
    "\n",
    "# Replication of Jonathan Guryan & Melissa S. Kearney  (2008) <a class=\"tocSkip\">   \n",
    "---"
   ]
  },
  {
   "cell_type": "markdown",
   "metadata": {},
   "source": [
    "This notebook contains my replication of the results from the following paper:\n",
    "\n",
    "> Guryan, Jonathan, and Melissa S. Kearney. (2008). Gambling at Lucky Stores: Empirical Evidence from State Lottery Sales. American Economic Review, 98(1), 458-473.\n",
    "\n",
    "##### Downloading and viewing this notebook:\n",
    "\n",
    "* The best way to view this notebook is by downloading it and the repository it is located in from [GitHub](https://github.com/HumanCapitalAnalysis/template-course-project). Other viewing options like _MyBinder_ or _NBViewer_ may have issues with displaying images or coloring of certain parts (missing images can be viewed in the folder [files](https://github.com/HumanCapitalAnalysis/template-course-project/tree/master/files) on GitHub).\n",
    "\n",
    "\n",
    "* The original paper, as well as the data and code provided by the authors can be accessed [here](https://www.aeaweb.org/articles?id=10.1257/aer.98.1.458.\n",
    "\n",
    "##### Information about replication and individual contributions:\n",
    "\n",
    "* For the replication, I try to remain true to the original structure of the paper so readers can easily follow along and compare. All tables and figures are named and labeled as they appear in Guryan and Kearney (2008).\n",
    "\n",
    "\n",
    "* The tables in my replication appear transposed compared to the original tables to suit my workflow in Python.\n",
    "\n",
    "\n",
    "* For transparency, all sections in the replication that constitute independent contributions by me and are not part of results presented (or include deviations from the methods used) in the paper are marked as _extensions_. "
   ]
  },
  {
   "cell_type": "markdown",
   "metadata": {
    "toc": true
   },
   "source": [
    "<h1>Table of Contents<span class=\"tocSkip\"></span></h1>\n",
    "<div class=\"toc\"><ul class=\"toc-item\"><li><span><a \n",
    "href=\"#1.-Introduction\" data-toc-modified-id=\"1.-Introduction-1\">1. Introduction</a></span></li><li><span><a \n",
    "href=\"#2.-Data-and-Background-on-the-Texas-State-Lottery\" data-toc-modified-id=\"2.-Data-and-Background-on-the-Texas-State-Lottery-2\">2. Data and Background on the Texas State Lottery</a></span></li><li><span><a \n",
    "href=\"#3.-Empirical-Specification\" data-toc-modified-id=\"3.-Empirical-Specification-3\">3. Empirical Specification</a></span></li><li><span><a href=\"#4.-Replication-of-Guryan-and-Kearney-(2008)\" data-toc-modified-id=\"4.-Replication-of-Guryan-and-Kearney-(2008)-4\">4. Replication of Guryan and Kearney (2008)</a></span></li><li><span><a href=\"#4.1.-Winning-Tickets-and-Subsequent-Sales-Responses\" data-toc-modified-id=\"4.1.-Winning-Tickets-and-Subsequent-Sales-Responses-4.1\">4.1. Winning Tickets and Subsequent Sales Responses</a></span></li><li><span><a href=\"#4.2.-Interpretation\" data-toc-modified-id=\"4.2.-Interpretation-4.2\">4.2. Interpretation</a></span></li><li><span><a href=\"#5.-Replication-of-Guryan and Kearney-(2008)\" data-toc-modified-id=\"5.-Replication-of-Guryan and Kearney.-(2008)-5\">5. Replication of Guryan and Kearney (2008)</a></span><ul class=\"toc-item\"><li><span><a href=\"#5.1.-Data-&amp;-Descriptive-Statistics\" data-toc-modified-id=\"5.1.-Data-&amp;-Descriptive-Statistics-5.1\">5.1. Data &amp; Descriptive Statistics</a></span></li><li><span><a href=\"#5.2.-Results\" data-toc-modified-id=\"5.2.-Results-5.2\">5.2. Results</a></span><ul class=\"toc-item\"><li><span><a href=\"#5.2.1.-Tests-of-the-Validity-of-the-RD-Approach\" data-toc-modified-id=\"5.2.1.-Tests-of-the-Validity-of-the-RD-Approach-5.2.1\">5.2.1. Tests of the Validity of the RD Approach</a></span></li><li><span><a href=\"#i.--Extension:-Visual-Validity-Check\" data-toc-modified-id=\"i.--Extension:-Visual-Validity-Check-5.2.2\">i.  Extension: Visual Validity Check</a></span></li><li><span><a href=\"#ii.-Advanced-Validity-Check\" data-toc-modified-id=\"ii.-Advanced-Validity-Check-5.2.3\">ii. Advanced Validity Check</a></span></li><li><span><a href=\"#5.2.2.-First-Year-GPAs-and-Academic-Probation\" data-toc-modified-id=\"5.2.2.-First-Year-GPAs-and-Academic-Probation-5.2.4\">5.2.2. First Year GPAs and Academic Probation</a></span></li><li><span><a href=\"#5.2.3.-The-Immediate-Response-to-Academic-Probation\" data-toc-modified-id=\"5.2.3.-The-Immediate-Response-to-Academic-Probation-5.2.5\">5.2.3. The Immediate Response to Academic Probation</a></span></li><li><span><a href=\"#5.2.4.-The-Impact-onSubsequent-Performance\" data-toc-modified-id=\"5.2.4.-The-Impact-onSubsequent-Performance-5.2.6\">5.2.4. The Impact onSubsequent Performance</a></span></li><li><span><a href=\"#i.-Main-Results-for-Impact-on-GPA-&amp;-Probability-of-Placing-Above-Cutoff-in-the-Next-Term\" data-toc-modified-id=\"i.-Main-Results-for-Impact-on-GPA-&amp;-Probability-of-Placing-Above-Cutoff-in-the-Next-Term-5.2.7\">i. Main Results for Impact on GPA &amp; Probability of Placing Above Cutoff in the Next Term</a></span></li><li><span><a href=\"#ii.-Formal-Bound-Analysis-on-Subsequent-GPA-(partial-extension)\" data-toc-modified-id=\"ii.-Formal-Bound-Analysis-on-Subsequent-GPA-(partial-extension)-5.2.8\">ii. Formal Bound Analysis on Subsequent GPA (partial extension)</a></span></li><li><span><a href=\"#5.2.5.-The-Impacts-on-Graduation\" data-toc-modified-id=\"5.2.5.-The-Impacts-on-Graduation-5.2.9\">5.2.5. The Impacts on Graduation</a></span></li></ul></li></ul></li><li><span><a href=\"#6.-Extension:-Robustness-Checks\" data-toc-modified-id=\"6.-Extension:-Robustness-Checks-6\">6. Extension: Robustness Checks</a></span><ul class=\"toc-item\"><li><span><a href=\"#6.1.--A-Closer-Look-at-Students'-Subsequent-Performance.\" data-toc-modified-id=\"6.1.--A-Closer-Look-at-Students'-Subsequent-Performance.-6.1\">6.1.  A Closer Look at Students' Subsequent Performance.</a></span><ul class=\"toc-item\"><li><span><a href=\"#6.1.1.-Subsequent-Performance-and-Total-Credits-in-Year-2\" data-toc-modified-id=\"6.1.1.-Subsequent-Performance-and-Total-Credits-in-Year-2-6.1.1\">6.1.1. Subsequent Performance and Total Credits in Year 2</a></span></li><li><span><a href=\"#6.1.2.-Subsequent-Cumulative-Grade-Point-Average-(CGPA)\" data-toc-modified-id=\"6.1.2.-Subsequent-Cumulative-Grade-Point-Average-(CGPA)-6.1.2\">6.1.2. Subsequent Cumulative Grade Point Average (CGPA)</a></span></li></ul></li><li><span><a href=\"#6.2.-Bandwidth-Sensitivity\" data-toc-modified-id=\"6.2.-Bandwidth-Sensitivity-6.2\">6.2. Bandwidth Sensitivity</a></span></li></ul></li><li><span><a href=\"#7.-Conclusion\" data-toc-modified-id=\"7.-Conclusion-7\">7. Conclusion</a></span></li><li><span><a href=\"#8.-References\" data-toc-modified-id=\"8.-References-8\">8. References</a></span></li></ul></div>"
   ]
  },
  {
   "cell_type": "code",
   "execution_count": 6,
   "metadata": {},
   "outputs": [],
   "source": [
    "%matplotlib inline\n",
    "import numpy as np\n",
    "import pandas as pd\n",
    "import pandas.io.formats.style\n",
    "import statsmodels.formula.api as smf\n",
    "import matplotlib.pyplot as plt\n",
    "from linearmodels import PanelOLS\n",
    "\n",
    "from IPython.display import display_html\n",
    "from IPython.display import Image"
   ]
  },
  {
   "cell_type": "code",
   "execution_count": null,
   "metadata": {
    "scrolled": true
   },
   "outputs": [],
   "source": [
    "from auxiliary_plot import *\n",
    "from auxiliary_tables import *\n"
   ]
  },
  {
   "cell_type": "code",
   "execution_count": null,
   "metadata": {},
   "outputs": [],
   "source": [
    "tx_game1 = pd.read_stata(r\"data\\tx_game1.dta\")\n",
    "tx_game2 = pd.read_stata(r\"data\\tx_game2.dta\")\n",
    "\n",
    "tx_game = pd.concat([tx_game1, tx_game2], ignore_index=True)\n",
    "\n",
    "\n",
    "onemile1 = pd.read_stata(r\"data\\onemile1.dta\")\n",
    "onemile2 = pd.read_stata(r\"data\\onemile2.dta\")\n",
    "onemile3 = pd.read_stata(r\"data\\onemile3.dta\")\n",
    "onemile4 = pd.read_stata(r\"data\\onemile4.dta\")\n",
    "onemile5 = pd.read_stata(r\"data\\onemile5.dta\")\n",
    "onemile6 = pd.read_stata(r\"data\\onemile6.dta\")\n",
    "onemile7 = pd.read_stata(r\"data\\onemile7.dta\")\n",
    "\n",
    "onemile = pd.concat([onemile1, onemile2, onemile3, onemile4, onemile5, onemile6, onemile7], ignore_index=True)\n",
    "\n",
    "\n",
    "analysis1 = pd.read_stata(r\"data\\analysis1.dta\")\n",
    "analysis2 = pd.read_stata(r\"data\\analysis2.dta\")\n",
    "analysis3 = pd.read_stata(r\"data\\analysis3.dta\")\n",
    "analysis4 = pd.read_stata(r\"data\\analysis4.dta\")\n",
    "analysis5 = pd.read_stata(r\"data\\analysis5.dta\")\n",
    "analysis6 = pd.read_stata(r\"data\\analysis6.dta\")\n",
    "analysis7 = pd.read_stata(r\"data\\analysis7.dta\")\n",
    "analysis8 = pd.read_stata(r\"data\\analysis8.dta\")\n",
    "analysis9 = pd.read_stata(r\"data\\analysis9.dta\")\n",
    "analysis10 = pd.read_stata(r\"data\\analysis10.dta\")\n",
    "\n",
    "analysis = pd.concat([analysis1, analysis2, analysis3, analysis4, analysis5, analysis6, analysis7, analysis8, analysis9, analysis10], ignore_index=True)\n",
    "\n",
    "tx_game"
   ]
  },
  {
   "cell_type": "code",
   "execution_count": null,
   "metadata": {},
   "outputs": [],
   "source": [
    "onemile.dtypes"
   ]
  },
  {
   "cell_type": "code",
   "execution_count": null,
   "metadata": {},
   "outputs": [],
   "source": [
    "onemile"
   ]
  },
  {
   "cell_type": "code",
   "execution_count": null,
   "metadata": {},
   "outputs": [],
   "source": [
    "tx_game"
   ]
  },
  {
   "cell_type": "markdown",
   "metadata": {},
   "source": [
    "---\n",
    "# 1. Introduction \n",
    "---"
   ]
  },
  {
   "cell_type": "markdown",
   "metadata": {},
   "source": [
    "Guryan and Kearney (2008) analyze ticket sales of the Texas Lottery, while focusing on three different lottery games: Lotto Texas, Texas Two Step, and Cash Five. They show that a store selling the winning ticket (from now on referred to as \"winning store\"), has a 12 to 38 percent increase in ticket sales for the particular lottery for a quite long period after selling the winning ticket. This effect is larger in economically disadvantaged regions and it is also increasing in the size of the winning prize.\n",
    "\n",
    "In order to explain the increase in sales, the authors take two different explanations into consideration. The first one considers the increase in sales as a reaction to increased advertisement due to selling a winning ticket. However, this is not considered to be the driving force of the effect, since the sales only increase in the particular shop which sold the ticket, and not in the other shops close to the winning store. So, general advertisement for lottery games does not increase lottery sales, contrary to specific advertisement pointing to the winning store. This indicates the belief in a \"lucky store\", which is the the second, and more plausible explanation - the **\"lucky store effect\"**. Guryan and Kearney (2008) consider two biases which could explain the existence of the lucky store effect. On the one hand there is the belief in nonexistent variation of luck across stores, indicating that the winning store signals being a lucky store. On the other hand there is the \"hot hand\" fallacy, describing the case where people expect positive serial correllation. Looking at basketball, the hot hand fallacy implies that people unaware of the bias, assign a higher probability for a player to score his next shot if his previous shots were successful. In the context of lotteries, the fallacy implies that people believe a winning store has a higher chance of selling another winning ticket. \n",
    "\n",
    "The work of Guryan and Kearney (2008) yields contrary results in comparison to similarly conducted studies like the one by Clotfelter and Cook (1993). Looking at lotteries where you have to choose, depending on the game, three or four single-digit numbers, Clotfelter and Cook found that the amount of money spend on a particular number decreases strongly and recovers very slowly - taking months to get to the former level. This fallacy is also known as the Gambler's fallacy, which describes the bias when people observe one or more realizations of the same outcome and thus wrongly infer that the same realization will happen less likely in the future in order to satisfy the law of big numbers. Recent reseatch showed the belief in a fallacy called the \"representativeness\" or \"law of small numbers\", which is, that people expect small samples to act like large ones. So, after observing their results, the authors felt the need for a model which describes when to expect either of those two effects. \n",
    "\n",
    "In this notebook, I will replicate most if the results provided in the author's paper and provide some further vizualizations to the results. Furthermore, I will discuss the importance of the size of the jackpot when analyzing the sales response to an winning ticket.\n",
    "\n",
    "My project follows a common structure. First of all, I will summarize how the Texas State Lottery works and which lottery games are being analyzed, while also providing some information on the particular games. Then, I am going to illustrate the empirical specification the authors used to approach the estimation of the sales increase effect. In the next section, I am going to replicate the results and use some additional figures in order to to illustrate the findings. \n",
    "Afterwards I will discuss ...\n",
    "\n",
    "In my conclusion, I am going to critically assess the assumptions and the findings."
   ]
  },
  {
   "cell_type": "markdown",
   "metadata": {},
   "source": [
    "---\n",
    "# 2. Data and Background on the Texas State Lottery\n",
    "---\n"
   ]
  },
  {
   "cell_type": "markdown",
   "metadata": {},
   "source": [
    "The authors compile a data set while collecting information on the weekly store-level sales by game, location of the store and zip-code-level demographics for each lottery retailer, in the time period between January 2000 and June 2002. There were 24,400 active lottery retailers, located in 1,386 cities of Texas and 3,660 nine-digit zip codes. \n",
    "\n",
    "\n",
    "Average total weekly retailer lottery sales  | \\$2,576 \n",
    "------------- | -------------\n",
    "Lotto Texas  | \\$733\n",
    "Texas Two Step  | \\$110\n",
    "Cash Five  |  \\$170 \n",
    "\n",
    "Number of winners  | 694\n",
    "------------- | -------------\n",
    "Lotto Texas  | 68\n",
    "Texas Two Step  | 55\n",
    "Cash Five  |  571 \n",
    "\n",
    "|Prize amounts | Lotto Texas | Texas Two Step | Cash Five|\n",
    "|------------- | ------------- | --- | ---|\n",
    "    Mean  |  \\$9,448,752 | \\$590,455 | \\$41,855 |\n",
    "|Min  | \\$1,032,666 | \\$200,000 | \\$8,888 |\n",
    "|Max  |  \\$51,200,200  | \\$1,600,000 | \\$93,201 |\n",
    "\n",
    "As one can see, the prize moneys are in different dimensions, according to the chance of winning. A lower jackpot corresponds with a higher chance of winning. Cash Five has the lowest prize pool, but the odds of winning - 575,757 to one - are relatively high, whereas the odds of winning Texas Two Step are lower (1,832,600 to one) and even less in Lotto Texas (25,827,165 to one).\n",
    "During January 2000 and June 2002, there were 68 jackpot winners from Lotto Texas, 55 from Texas Two Step, and 571 from Cash Five, which were spread across 669 retailers and 480 zip codes. \n",
    "\n",
    "As mentioned before, the authors focus on three different lottery games. The first one is called **Lotto Texas**, which is simply picking 6 numbers out of 54. Winners can choose whether they want 25 annual payments or one immediate payment, which equals the discounted sum of the annual payments. If no one wins the jackpot, it gets added to the prize pool of the subsequent draw.\n",
    "The second one is **Texas Two Step**, where one has to choose 4 out of 35 and also get the correct Bonus Ball number out of 35 in order to win the jackpot, which amounts $200,000 and as in Lotto Texas, gets added to the prize pool of the next games' jackpot if no one wins. \n",
    "The third game is **Cash Five**, which during the time of the experiment used to be picking 5 numbers out of 39 (now it is changed to 5 out of 37). Cash Five differs from the first two games, since the prize pool is not added to the next game, but it gets split up between the people who correctly picked 4 out of the 5 winning numbers.\n",
    "Although they analyze all three games, they only present the results for Lotto Texas in their article. However, they point to their previous working paper, which contains all the other results.\n",
    "\n"
   ]
  },
  {
   "cell_type": "markdown",
   "metadata": {},
   "source": [
    "---\n",
    "# 3. Empirical Specification\n",
    "--- \n"
   ]
  },
  {
   "cell_type": "markdown",
   "metadata": {},
   "source": [
    "The following equation is used to estimate the effect on sales at the winning store for each game j = {1,2,3}:\n",
    "\n",
    "$g_{it} = \\alpha_k + \\gamma_kw_{i(t-k)} + \\phi_kg_{i(t-k)} + \\mu_{k,t} + \\epsilon_{k,it}$\n",
    "\n",
    "where:\n",
    "* i indexes the store, \n",
    "* t indexes weeks,  \n",
    "* k is the number of weeks after the winner is sold,\n",
    "* g is the log of tickets sold, \n",
    "* w is an indicator variable which takes value 1 when store i sells a winning ticket for game j in week t-k , and is 0 otherwise,\n",
    "* $\\alpha$, $\\gamma$ and $\\phi$ are the parameters which are being estimated,\n",
    "* $\\epsilon$ is an error term,\n",
    "* and $\\mu$ is a fixed week effect.\n",
    "\n",
    "The fixed effect $ \\mu $ is estimated once for every k, since more tickets are sold in weeks where the jackpot is higher. $ \\gamma_k $ is then the estimated increase in ticket sales for a winning store. When analyzing the causal effect on the sales increase between winner and non-winner stores, it is not enough to simply compare the average sales. A higher sale in tickets corresponds with a higher chance of winning, and as sales are serially correlated, it holds that \n",
    "$ E[\\epsilon_{1,it} | w_{i(t-1)} = 1] \\neq E[\\epsilon_{1,it} | w_{i(t-1)} = 0] $.  \n",
    "\n",
    "One can solve that problem by conditioning on the number of tickets sold. Then, for each store, the probability of selling a winning ticket is the same, and \n",
    "$ E[\\epsilon_{1,it} | w_{i(t-1)} = 1, g_{i(t-1)}] = E[\\epsilon_{1,it} | w_{i(t-1)} = 0, g_{i(t-1)}] $.\n",
    "It holds that the probability of a store of selling a winning ticket is linear in the amount of tickets sold, because every ticket has the same chance of winning. It would be more precise to say that the probability is a linear function the number of unique combinations sold. The authors bypass that by simply saying that the number of unique combinations sold is just a fixed proportion of the ticket sales, since there is no reason to assume that the proportion varies systematically. \n",
    "\n",
    "\n"
   ]
  },
  {
   "cell_type": "code",
   "execution_count": 7,
   "metadata": {},
   "outputs": [
    {
     "data": {
      "text/html": [
       "<img src=\"casualgraphs.png\"/>"
      ],
      "text/plain": [
       "<IPython.core.display.Image object>"
      ]
     },
     "execution_count": 7,
     "metadata": {},
     "output_type": "execute_result"
    }
   ],
   "source": [
    "img = \"casualgraphs.png\"\n",
    "Image(url=img)"
   ]
  },
  {
   "cell_type": "markdown",
   "metadata": {},
   "source": [
    "There are several casual relationships which explain the number of ticket sales. The first and most important relationship in this context is the one between being a winning store and number of ticket sales, since the paper from Guryan and Kearney (2008) is mostly about identifying this effect. In addition, not only the winning stores' sales are being affected, but also the sales from non-winning stores in the local area, which are either in he same zip-code or within a certain distance from the store. So both have a direct effect on ticket sales, but also an indirect effect through advertisement, since being exposed to advertisement makes customers think (more) about lotteries, which in fact leads to higher ticket sales. One of the main goals of this paper is to examine whether it is general advertisement for lottery games or specific advertisement for the winning store which explains the sales increase. Another goal is to investigate the population demographics in Texas and figure out whether there are certain groups of people whose response to the lucky store effect is larger. The size of the jackpot is a further effect on the sales response since it also has a direct effect and an indirect effect through advertisement - especially when considering the increase in advertisement when there is a larger jackpot to be won. \n",
    "In the end, there could still be unobserved effect which also have an influence on the number of ticket sales, but were not included in the analysis, which is why they should be considered."
   ]
  },
  {
   "cell_type": "markdown",
   "metadata": {},
   "source": [
    "---\n",
    "# 4. Replication of Guryan and Kearney (2008)\n",
    "---\n"
   ]
  },
  {
   "cell_type": "markdown",
   "metadata": {},
   "source": [
    "## 4.1. Subsequent Sales Responses\n",
    "\n",
    "In this section, I will cover the first results presented Guryan and Kearney (2008), which are about the subsequent sales responses at the winning store for the winning game. Estimating the above equation, I was able to find more or less the same significant same-store sales increases for all three games as the authors. "
   ]
  },
  {
   "cell_type": "code",
   "execution_count": null,
   "metadata": {},
   "outputs": [],
   "source": [
    "get_table_for_same_store_lottotexas()"
   ]
  },
  {
   "cell_type": "code",
   "execution_count": null,
   "metadata": {},
   "outputs": [],
   "source": [
    "get_table_for_same_store_tx2s()"
   ]
  },
  {
   "cell_type": "code",
   "execution_count": null,
   "metadata": {},
   "outputs": [],
   "source": [
    "get_table_for_same_store_c5()"
   ]
  },
  {
   "cell_type": "code",
   "execution_count": null,
   "metadata": {},
   "outputs": [],
   "source": []
  },
  {
   "cell_type": "code",
   "execution_count": null,
   "metadata": {},
   "outputs": [],
   "source": [
    "plot_effect_on_lotto_same_store_sales()"
   ]
  },
  {
   "cell_type": "code",
   "execution_count": null,
   "metadata": {},
   "outputs": [],
   "source": [
    "plot_effect_on_tx2s_same_store_sales()"
   ]
  },
  {
   "cell_type": "code",
   "execution_count": null,
   "metadata": {},
   "outputs": [],
   "source": [
    "plot_effect_on_c5_same_store_sales()"
   ]
  },
  {
   "cell_type": "markdown",
   "metadata": {},
   "source": [
    "The impact of a win was the highest in the highest yielding game, which is Lotto Texas. There, the effect was an increase of 32.0 log points in the first week after selling an winning ticket, which is equal to a 37.7 percent increase in sales. For the other games, the effect of selling a winning ticket in Texas Two Step is 19.5 log points (21.5 percent). This is however still higher than an increase of 11,7 log points (12.4 percent) for Cash Five. The red dashed lines around the graph are 95% confidence intervals and it is shown that for the lag effects (right side) one can rule out a zero effect. \n",
    "As one can see in the graphs, the lead effects on the left side of the origin are close to zero. They are also not significantly different from zero, and there is no trend leading up to the week where the winner is sold. This is consistent with the identifying assumptions which state that sales in week t should not predict that a store sells a ticket in week t+k. \n",
    "\n"
   ]
  },
  {
   "cell_type": "markdown",
   "metadata": {},
   "source": [
    "## 4.2. Substitution Patterns\n",
    "\n",
    "\n",
    "Despite the significant increase in sales for winning games within a store, one could argue that the increase is not caused by new customers from lottery tickets, but rather by substitution effects - customers switching to Lotto Texas from another game. In order to prove this claim wrong, the authors again estimated the above equation, but this time they took the whole retailer sales minus Lotto Texas sales as the dependent variable."
   ]
  },
  {
   "cell_type": "code",
   "execution_count": null,
   "metadata": {
    "scrolled": true
   },
   "outputs": [],
   "source": [
    "get_table_sales_minuslotto() "
   ]
  },
  {
   "cell_type": "markdown",
   "metadata": {},
   "source": [
    "Again, I was able to reproduce the same numbers as the authors. For the first week, the effect equals 17.8 log points (19.5 percent). However, the estimate is marginally significant, since the standard deviation is 8.9 log points. Also, in the subsequent weeks, the effect decreases over time and stays insignificant. One can conclude from this that there is no evidence for the sales increases being caused by substitution. Also when testing the identyfing assumption again, all the lead effects are not only close to zero, but also insignificant.\n",
    "\n",
    "As already stated in the introduction, the authors consider two different explanations for the sales increase at winning stores. The first explanation concerns any form of advertising, media coverage and general discussion among local residents. This captures the consumers attention, since it bring them to think about lotteries and updating their beliefs about the porbability of winning, which in fact leads to consumers buying more lottery tickets. Thus, one could argue that by the advertising argument, the sales should increase in all Texas Lottery stores. The only reason why this does not happen, is, that information about the win flows more easily to consumers living close to whe winning store. Contrarily, the second explanation assumes that only the probability for the winning store gets updated, and not the probability for the game itself, which leads to the name of the lucky store effect. Those two different explanations help the authros to distinguish between the lucky store effect and the advertising effect based on patters in the data.  "
   ]
  },
  {
   "cell_type": "markdown",
   "metadata": {},
   "source": [
    "In the next section, the authors looked into the effect on total sales at other stores withhin the local market. In order to do so, they introduced two types of local markets: The first local market was defined by its zip-code, the second market by a 1-mile-radius around the store. The authors show that nearby stores also profit from a small net positive spillover, but that most of the effect is solely for the winning store.\n",
    "The following equation is the one being estimated:,\n",
    "\n",
    "$g_{it} = \\alpha_k^z + \\gamma^{z1}_kw_{i(t-k)} + \\gamma^{z2}_kw_{z(t-k)} + \\phi^{z1}_kg_{i(t-k)} + \\phi^{z2}_kg_{i(t-k)} + \\mu^z_{k,t} + \\epsilon^z_{k,izt}$\n",
    "\n",
    "It is quite similar to the first equation. The difference is the addition of one more dummy and one more sales variable, resulting in two dummy and two sales variables. The additional variables account for sales of other stores in the zipcode respectively in the one-mile radius around the store, and for a winning ticket sale of a retailer in the same local markt. Here, the corresponding coefficient $ \\gamma^{z2}_k $ explains the effect of a winning ticket in the local market, and the sum of $ \\gamma^{z2}_k + \\gamma^{z1}_k $ thus explains the effect of a winning ticket at the winning store. The following table shows the lead and lag effects 5 weeks before and after selling a winning ticket."
   ]
  },
  {
   "cell_type": "markdown",
   "metadata": {},
   "source": [
    "Unfortunately, I was not able to replicate the numbers for the zip-code local market. I followed the same procedure as I did for the other regressions, shifting the corresponding sales variable value and dummy variable value to n weeks before or after selling the winning ticket and filtering for gamenum = 2, which corresponds with the game Lotto Texas. However, I had to edit the dataframe in order to work with it. One of the facts which attracted my attention was that there were the same zip-codes in two different formats, for example \"79901\" and \"799010000\". In order to work with the dataset, I had to bring those zip-codes in the same format, to not falsify the results.\n",
    "\n",
    "First, I had to drop all empty values. Second, the zip-codes were in a strange format, as they were not only saved as a string, which was not the issue, but the zip-codes sometimes had whitespaces, lines or dots in it, which I removed, as well as the digits after the fith digit in the zip-code, for zip-codes with length 6 to 8. The reason for this was that, in the end, there were some 6 and 8 digit zip-codes, and as only the first 5 matter, I wanted them all to be equal. Also there were 9 digit zip-codes, and the most of them had attached 4 zeros to it. Now, since I had only 5 and 9 digit zip-codes left, I decided to add 4 zeros to the 5 digit zip-codes, instead of stripping the 9 digit zip-codes. I did that because I tried to follow the same steps as the authors documented in their stata .do file. However, I have no experience in stata, and I could not understand most of the code, which is why I had to try on my own. My next step was then to filter the data for Lotto Texas. Then, I tried to create everything I needed for the equation: I calculated the log sales the for the stores, and the aggregated store sales for the zip-codes in every week. All I had left now was creating the dummy variables. The dummy for a same store winner was given, but the dummy for a local market winner was not, which is why I tried to create a variable \"zwin2\", where I would store a 1 for every time when there was a winner in the local market. \n",
    "\n",
    "Despite all my transformations to the best of my ability , I did not succeed in replicating numbers for the zip-code local markets. I assume that I failed to transform the dataset in a such way to be able to regress over it. For this reason, I will not append the wrong results in the table. However, one can just run the following function and see the lead and lag effects I calculated."
   ]
  },
  {
   "cell_type": "code",
   "execution_count": null,
   "metadata": {},
   "outputs": [],
   "source": [
    "#function"
   ]
  },
  {
   "cell_type": "markdown",
   "metadata": {},
   "source": [
    "A regression on the zip-code level has a weakness - there is large heterogeneity in the size of local markets. To cope with this, the authors defined a local market as a 1-mile-radius around the winning store. Afterwards they conducted the same analysis as for zip-code local markets, estimating the same equation. As mentioned earlier, I was able to reproduce the same parameters as the authors, which I provide in the following table:"
   ]
  },
  {
   "cell_type": "code",
   "execution_count": null,
   "metadata": {},
   "outputs": [],
   "source": [
    "get_table_for_1mile()"
   ]
  },
  {
   "cell_type": "code",
   "execution_count": null,
   "metadata": {},
   "outputs": [],
   "source": [
    "#plot and/or function"
   ]
  },
  {
   "cell_type": "markdown",
   "metadata": {},
   "source": [
    "The table shows lead and lag effects for 5 weeks before and after a store within a 1-mile-radius sold a winning ticket. As one can see, the lead effects are all insignificantly different from zero, unlike the lag effects, which are quite large. In the first week the increase is 33.3 log points and the effect decreases somewhat in the following weeks, but is nonetheless still large with more than 20 log points. Also, all those lag effects are significantly different from zero. \n",
    "\n",
    "The table indicates that the effect on selling a winner is much larger at winning stores than at nearby stores. Moreover, there is no evidence of a so called \"spillover effect\", which describes the sales increase in other stores in the local markt due to selling a winner at the winner store. \n",
    "This is in contrast to the results of the zip-code local markets analysis, which I do not provide here. There, a small spillover effect existed.\n",
    "\n",
    "In the next step, the authors analyzed the development of the effect in the long run. This time, they controlled for month fixed effects instead of weekly fixed effects, in order to increase precision. I did not figure out how to transform my dataset appropriately to implement monthy fixed effects in my regression analysis, which is why I go on with weekly fixed effects. Although I get different results, the development of the long-run effect is somehow similar. As one can see in the figure and the table below, I find significance for up to seven weeks, while the authors find significance for the first month. This findings are in line with the prediction that the belief in a lucky store is a temporary misconception, and the belief in the luck diminishes as suggested by the hot hand fallacy. \n",
    "In addition, from the insignificant results from the non-winning stores within one mile of the winner, the authors infer that the sales increase in the winning store for the winning game could be due to a permanent shift of lottery ticket demand towards the winning store. "
   ]
  },
  {
   "cell_type": "code",
   "execution_count": null,
   "metadata": {},
   "outputs": [],
   "source": [
    "plot_long_run_effect()"
   ]
  },
  {
   "cell_type": "markdown",
   "metadata": {},
   "source": [
    "All these results contradict the idea that general advertising is responsible for the sales increase. It seems that the only explanation that includes advertising is if winning stores change their advertising in the week after selling a winning ticket. The authors conducted a survey on the stores which sold a winning ticket. However, the study was conducted in 2004, which is two to four years after selling a winning ticket. Due to employees being replaced quite often (high turnover rate), out of the 67 winning stores, only 18 responded. Interestingly, out of the 18, 15 had placed a certain sign in their store, which a winning store gets from the Texas Lottery Commission. It was the \"We Sold a Winning Lotto Texas Jackpot Ticket\" sign, placed in a noticeale spot such as upon receipt or in front of the store, where passengers who do not enter, but just walk past by the store, are still exposed the sign. \n",
    "The sign is quite large with a size of approximately 80x160cm and has a yellow background with black block letters, which implicates that it is quite difficult to ignore it. Out of the 15 stores, 8 of it presented the sign for multiple years, whereas the other 7 had it placed between one week and six months. Surprisingly, that sign was the only change in advertisement in every of the 15 stores. One can infer from this that if advertising was the driving force, it must have been the sign which hat an impact. \n",
    "\n",
    "The question of interest is why this way of advertisement is effective. The first possible answer would be that the consumers learn of the existence of the lottery. However this can be ruled out, since the retailers are bound by contract with the Texas Lottery Commission to place advertisements for the lottery, and thus regularly advertise the lottery games. Another more viable explanation is simply the belief in the lucky store effect, because the long-run effect is diminishing in time and that should not be the case for advertisement which generlly advertises lottery sales. "
   ]
  },
  {
   "cell_type": "markdown",
   "metadata": {},
   "source": [
    "## 4.3 Interaction with Population Demographics"
   ]
  },
  {
   "cell_type": "markdown",
   "metadata": {},
   "source": [
    "The next step in the analysis of Guryan and Kearney (2008) was to examine if there are demographic populations where the belief in a lucky store effect is larger. The data for population demographics was found in the 2000 US Census.  Unfortunately, the analysis happens on zip-code level. Since I could not work with the dataset for zip-codes, I also cannot apply the US Census data onto the zip-code data and run regressions on it. Also, since the Census data is only on zip-code levels, I also cannot apply it to the other datasets. \n",
    "\n",
    "The results are interesting and also important for policy measures, which is why I want so sum up the results in short. The authors identify a larger response to lottery sales in more economically disadvantaged areas. Furthermore, the response is also larger if there is a larger share of high-school dropouts, nonwhites, or households on public assistance. Also, the response decreases in proportion of the population which has a college degree as well as is 200 percent above the poverty line. "
   ]
  },
  {
   "cell_type": "markdown",
   "metadata": {},
   "source": [
    "---\n",
    "# 5. Extension"
   ]
  },
  {
   "cell_type": "markdown",
   "metadata": {},
   "source": [
    "## 5.1. Sensitivity of the Results in the Time Fixed Effect"
   ]
  },
  {
   "cell_type": "markdown",
   "metadata": {},
   "source": [
    "Running the first regressions, one can see that the magnitude of the lucky store effect depends heavily on the size of the jackpot, and is larger for games with generally larger jackpots who on the other hand, have lower chances of being won.\n",
    "\n",
    "When comparing the results for the different lottery games, one can also suppose that the type of lottery game matters when identifying the sales increase effect. As the figures for the initial sales response show, the winning store effect seems to be much larger for games which have a higher payoff, but a lower chance of hitting the jackpot, like Lotto Texas and Texas Two Step. In relatively \"low-rewarding\" games like Cash Five, were the chances for hitting the jackpot are much higher, the response is not as large as in the other two. "
   ]
  },
  {
   "cell_type": "markdown",
   "metadata": {},
   "source": [
    "As already stated multiple times, the ticket sales are increasing in the jackpot. That statement seems very obvious even without a scientific approach, since higher possible payoffs and same chances for winning yield a higher expected return of the lottery, which in turn leads to higher ticket sales. In addition, due to the Gambler's fallacy, with higher jackpots because of the lottery not being won for a few times in a row, customer might wrongly infer that the probability of winning is even larger. In the following analysis, I want to investige the sensitivity of the jackpot size effect on the lucky store effect. Since the authors already control for weekly fixed effects, which count in the jackpot size, I want to check what happens if one removes the time fixed effect. If the assumption is true that ticket sales are increasing in the size of the jackpot, one should expect to see smaller effects when not taking the fixed effect into account. The reason for this is that, after a win, the jackpot gets resetted and is likely to be considerably smaller than in the previous week (if the jackpot was not won in the previous week). Running a simple OLS regression without the fixed effects yields the following results:\n"
   ]
  },
  {
   "cell_type": "code",
   "execution_count": 4,
   "metadata": {},
   "outputs": [
    {
     "name": "stderr",
     "output_type": "stream",
     "text": [
      "C:\\Users\\antom\\anaconda3\\lib\\site-packages\\linearmodels\\utility.py:549: MissingValueWarning: \n",
      "Inputs contain missing values. Dropping rows with missing observations.\n",
      "  warnings.warn(missing_value_warning_msg, MissingValueWarning)\n"
     ]
    },
    {
     "data": {
      "image/png": "[encoded data removed]",
      "text/plain": [
       "<Figure size 432x288 with 1 Axes>"
      ]
     },
     "metadata": {
      "needs_background": "light"
     },
     "output_type": "display_data"
    },
    {
     "data": {
      "image/png": "[encoded data removed]",
      "text/plain": [
       "<Figure size 432x288 with 1 Axes>"
      ]
     },
     "metadata": {
      "needs_background": "light"
     },
     "output_type": "display_data"
    }
   ],
   "source": [
    "effects_on_lotto_same_store_sales_n_weeks_after_no_FE()"
   ]
  },
  {
   "cell_type": "markdown",
   "metadata": {},
   "source": [
    "One can see that the results are in line with the prediction. When removing the fixed effect, in the first few weeks after selling a winning ticket the sales response seems to be much smaller. There are now two effects working in the opposite directions: The first effect is just again the lucky store effect, which is increasing the sales, while the second effect is a lower sales response to the lottery game due to a smaller jackpot. When controlling for the time fixed effects, one gets the true effect of selling a winning ticket on the ticket sales. Thus, one can conclude that the model is very sensitive to a change in the fixed effect assumption. "
   ]
  },
  {
   "cell_type": "code",
   "execution_count": null,
   "metadata": {},
   "outputs": [],
   "source": []
  },
  {
   "cell_type": "markdown",
   "metadata": {},
   "source": [
    "I think that the general jackpot size is the main driving force in the lucky store effect - or to put differently - I think it is the main indicator for the magnitude of the lucky store effect. "
   ]
  },
  {
   "cell_type": "markdown",
   "metadata": {},
   "source": [
    "---\n",
    "# 6. Conclusion\n",
    "---\n",
    "\n"
   ]
  },
  {
   "cell_type": "markdown",
   "metadata": {},
   "source": [
    "In my project, I was able to replicate the main result that there exists a sales increase for the winning game in the winning store after selling a winning ticket. Also, I was able to replicate most of the other results provided by Guryan and Kearney (2008).\n",
    "However, for two of the results I was not able to replicate the authors findings, as I was not able to prepare the dataset in a suitable way.\n",
    "One the those two results is not all that important, because as already stated in my work, the analysis on zip-code levels is heavily influenced by heterogeneity in the size of the area, which is captured by the one-mile-radius analysis, which I in turn could replicate. On the other hand, the second results which I could not replicate has more informative power and it would have been great if I had been able to replicate it, since it is an important result for possible policy measures. In the end, it probably was just due to my low experience in working with datasets that I failed in preparing the data. And yet, I think that the data and the corresponding information could be easier to understand. There are Stata files which do explain the procedure of the authors and most of the researchers can work with them, but for understanding the data, a list of explanation for column abbreviations would have been quite helpful, as it takes some time until one has fully understood what information the particular columns contain. \n",
    "\n",
    "My extension to the work of Guryan and Kearney (2008) consists mostly of additional visualizations and checking for sensitivity of the results in the time fixed effect. Since the authors are the first (and up to now, the only) to examine the effect"
   ]
  },
  {
   "cell_type": "markdown",
   "metadata": {},
   "source": [
    "- results are the same or close as in the paper\n",
    "- unluckily, I could not replicate two of the results due to not being able to work with the dataset\n",
    "\n",
    "- additional value: provide visualization and check for time fixed effect (lottery size)\n",
    "\n",
    "- assumptions: gambling behaviour is the same across zip-codes, each store has equal chance of selling winner when conditioning on ticket sales\n",
    "\n",
    "- what could have been done even better: Control for general gambling behavior in the particular areas (and/or make assumptions about whether population demographics and gambling behaviour are correlated -> who (what \"type\") exactly are the customers who \"in addition\" play the lottery: People who usually don't play, or people who try to stop gambling but then get back to it...\n",
    "\n",
    "- ...\n",
    "\n"
   ]
  },
  {
   "cell_type": "markdown",
   "metadata": {},
   "source": [
    "---\n",
    "# 8. References\n",
    "---"
   ]
  },
  {
   "cell_type": "markdown",
   "metadata": {},
   "source": [
    "* **Guryan, Jonathan, and Melissa S. Kearney (2008)**. Gambling at Lucky Stores: Empirical Evidence from State Lottery Sales. *American Economic Review*, 98(1), 458-473.\n",
    "\n",
    "\n",
    "* **Imbens, G. W., & Lemieux, T. (2008)**. Regression discontinuity designs: A guide to practice. *Journal of Econometrics*, 142(2), 615-635.\n",
    "\n",
    "\n",
    "* **Lee, D. S. (2009)**. Training, Wages, and Sample Selection: Estimating Sharp Bounds on Treatment Effects. *The Review of Economic Studies*, 76(3), 1071-1102.\n",
    "\n",
    "\n",
    "* **Lee, D. S., & Lemieux, T. (2010)**. Regression Discontinuity Designs in Economics. *Journal of Economic Literature*, 48(2), 281-355.\n",
    "\n",
    "\n",
    "* **Lindo, J. M., Sanders, N. J., & Oreopoulos, P. (2010)**. Ability, Gender, and Performance Standards: Evidence from Academic Probation. *American Economic Journal: Applied Economics*, 2(2), 95-117.\n",
    "\n",
    "\n",
    "* **Thistlethwaite, D. L., & Campbell, D. T. (1960)**. Regression-discontinuity analysis: An alternative to the ex post facto experiment. *Journal of Educational Psychology*, 51(6), 309.\n",
    "\n"
   ]
  },
  {
   "cell_type": "markdown",
   "metadata": {},
   "source": [
    "-------\n",
    "Notebook by Anto Marcinkovic \n",
    "\n",
    "---"
   ]
  }
 ],
 "metadata": {
  "kernelspec": {
   "display_name": "Python 3",
   "language": "python",
   "name": "python3"
  },
  "language_info": {
   "codemirror_mode": {
    "name": "ipython",
    "version": 3
   },
   "file_extension": ".py",
   "mimetype": "text/x-python",
   "name": "python",
   "nbconvert_exporter": "python",
   "pygments_lexer": "ipython3",
   "version": "3.7.6"
  },
  "toc": {
   "base_numbering": 1,
   "nav_menu": {},
   "number_sections": false,
   "sideBar": true,
   "skip_h1_title": false,
   "title_cell": "Table of Contents",
   "title_sidebar": "Contents",
   "toc_cell": true,
   "toc_position": {
    "height": "622.641px",
    "left": "691px",
    "top": "110px",
    "width": "277.4px"
   },
   "toc_section_display": true,
   "toc_window_display": true
  },
  "varInspector": {
   "cols": {
    "lenName": 16,
    "lenType": 16,
    "lenVar": 40
   },
   "kernels_config": {
    "python": {
     "delete_cmd_postfix": "",
     "delete_cmd_prefix": "del ",
     "library": "var_list.py",
     "varRefreshCmd": "print(var_dic_list())"
    },
    "r": {
     "delete_cmd_postfix": ") ",
     "delete_cmd_prefix": "rm(",
     "library": "var_list.r",
     "varRefreshCmd": "cat(var_dic_list()) "
    }
   },
   "oldHeight": 189.73845400000002,
   "position": {
    "height": "478.719px",
    "left": "987.578px",
    "right": "20px",
    "top": "283.984px",
    "width": "717.172px"
   },
   "types_to_exclude": [
    "module",
    "function",
    "builtin_function_or_method",
    "instance",
    "_Feature"
   ],
   "varInspector_section_display": "block",
   "window_display": false
  }
 },
 "nbformat": 4,
 "nbformat_minor": 2
}
